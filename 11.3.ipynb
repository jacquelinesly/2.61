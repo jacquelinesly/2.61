{
 "metadata": {
  "name": "11.3"
 }, 
 "nbformat": 2, 
 "worksheets": [
  {
   "cells": [
    {
     "cell_type": "code", 
     "collapsed": false, 
     "input": [
      "m_NOx=1.5; ", 
      "m_HC=2.0; ", 
      "m_CO=20.0; ", 
      "m_f=120.0; ", 
      "m_a=14.6*m_f; ", 
      "m_tot=m_f+m_a; ", 
      "", 
      "w_NOx=30.0", 
      "w_HC=13.87", 
      "w_CO=30.01", 
      "w_tot=28.0", 
      "", 
      "", 
      "x_NOx=m_NOx/m_tot; print \"x_NOx= \", x_NOx;", 
      "x_HC=m_HC/m_tot; print \"x_HC= \", x_HC; ", 
      "x_CO=m_CO/m_tot; print \"x_CO= \", x_CO; ", 
      "print \"\"; ", 
      "", 
      "ppm_NOx=1e6*x_NOx*w_tot/w_NOx; print \"ppm_NOx= \",ppm_NOx; ", 
      "ppm_HC=1e6*x_HC*w_tot/w_HC; print \"ppm_HC= \",ppm_HC; ", 
      "ppm_CO=1e6*x_CO*w_tot/w_CO; print \"ppm_CO= \",ppm_CO; "
     ], 
     "language": "python", 
     "outputs": [
      {
       "output_type": "stream", 
       "stream": "stdout", 
       "text": [
        "x_NOx=  0.000801282051282", 
        "x_HC=  0.00106837606838", 
        "x_CO=  0.0106837606838", 
        "", 
        "ppm_NOx=  747.863247863", 
        "ppm_HC=  2156.77937379", 
        "ppm_CO=  9968.18724243"
       ]
      }
     ], 
     "prompt_number": 4
    }, 
    {
     "cell_type": "code", 
     "collapsed": true, 
     "input": [], 
     "language": "python", 
     "outputs": []
    }
   ]
  }
 ]
}