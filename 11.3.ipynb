{
 "metadata": {
  "name": "11.3"
 }, 
 "nbformat": 2, 
 "worksheets": [
  {
   "cells": [
    {
     "cell_type": "code", 
     "collapsed": true, 
     "input": [
      "m_NOx=1.5; ", 
      "m_HC=2.0; ", 
      "m_CO=20.0; ", 
      "m_f=120.0; ", 
      "m_a=14.6*m_f; ", 
      "m_tot=m_f+m_a; ", 
      "", 
      "x_NOx=m_NOx/m_tot; print \"x_NOx= \", x_NOx;", 
      "x_HC=m_HC/m_tot; print \"x_HC= \", x_HC; ", 
      "x_CO=m_CO/m_tot; print \"x_CO= \", x_CO; "
     ], 
     "language": "python", 
     "outputs": []
    }
   ]
  }
 ]
}