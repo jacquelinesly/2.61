{
 "metadata": {
  "name": "11.9"
 }, 
 "nbformat": 2, 
 "worksheets": [
  {
   "cells": [
    {
     "cell_type": "code", 
     "collapsed": false, 
     "input": [
      "phi=1.0; ", 
      "land_height=6.0e-3; ", 
      "ve=.8; ", 
      "stroke=100.0e-3; ", 
      "piston_dia=99.4e-3; ", 
      "bore=100.0e-3; ", 
      "CR=8.0; ", 
      "T0=333; ", 
      "P0=101.325e3; ", 
      "bsfc=300; ", 
      "P1=3.0e6; ", 
      "T1=400; ", 
      "Ra=286.9; ", 
      "", 
      "V_crev=pi*(1/4.0)*land_height*(bore**2-piston_dia**2); print \"V_crev= \",V_crev,\" m^3\"", 
      "m_crev=1000.0*(2/3.0)*P1*V_crev/(Ra*T1); print \"m_crev= \",m_crev,\" g\"; ", 
      "", 
      "V_tot=V_crev+pi*bore**2*stroke*ve*(1/4.0); print \"V_tot= \",V_tot,\" m^3\"; ", 
      "m_tot=1000.0*P0*V_tot/(Ra*T0); print \"m_tot= \",m_tot, \" g\"; ", 
      "", 
      "x_crev=m_crev/m_tot; print \"x_crev= \",x_crev; "
     ], 
     "language": "python", 
     "outputs": [
      {
       "output_type": "stream", 
       "stream": "stdout", 
       "text": [
        "V_crev=  5.63790217613e-07  m^3", 
        "m_crev=  0.00982555276426  g", 
        "V_tot=  0.000628882320936  m^3", 
        "m_tot=  0.666977550944  g", 
        "x_crev=  0.0147314594777"
       ]
      }
     ], 
     "prompt_number": 5
    }, 
    {
     "cell_type": "code", 
     "collapsed": false, 
     "input": [
      "HC_emiss=V_crev*(1-(1/2.0)-(1/3.0))*1e6/(V_tot); print \"HC_emiss= \",HC_emiss,\" ppm by Volume\"; "
     ], 
     "language": "python", 
     "outputs": [
      {
       "output_type": "stream", 
       "stream": "stdout", 
       "text": [
        "HC_emiss=  149.415929087  ppm by Volume"
       ]
      }
     ], 
     "prompt_number": 6
    }, 
    {
     "cell_type": "code", 
     "collapsed": true, 
     "input": [], 
     "language": "python", 
     "outputs": []
    }
   ]
  }
 ]
}